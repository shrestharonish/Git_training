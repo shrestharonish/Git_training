{
  "nbformat": 4,
  "nbformat_minor": 0,
  "metadata": {
    "colab": {
      "name": "This_SVM.ipynb",
      "provenance": [],
      "collapsed_sections": [],
      "mount_file_id": "1xobqOB710NCI0rFTgJXEVwtWlAHDe73Z",
      "authorship_tag": "ABX9TyOszVu351mBS/Pex7pR5s3b",
      "include_colab_link": true
    },
    "kernelspec": {
      "name": "python3",
      "display_name": "Python 3"
    },
    "language_info": {
      "name": "python"
    }
  },
  "cells": [
    {
      "cell_type": "markdown",
      "metadata": {
        "id": "view-in-github",
        "colab_type": "text"
      },
      "source": [
        "<a href=\"https://colab.research.google.com/github/shrestharonish/Git_training/blob/master/This_SVM.ipynb\" target=\"_parent\"><img src=\"https://colab.research.google.com/assets/colab-badge.svg\" alt=\"Open In Colab\"/></a>"
      ]
    },
    {
      "cell_type": "code",
      "execution_count": 1,
      "metadata": {
        "id": "w5RnvDzFO3pC"
      },
      "outputs": [],
      "source": [
        "import numpy as np\n",
        "import pandas as pd\n",
        "from sklearn import svm \n",
        "from sklearn.model_selection import train_test_split\n",
        "from sklearn.feature_extraction.text import TfidfVectorizer\n",
        "import matplotlib.pyplot as plt"
      ]
    },
    {
      "cell_type": "code",
      "source": [
        "#Importing dataset\n",
        "true_data = pd.read_csv('/content/drive/MyDrive/processedTrue.csv')\n",
        "fake_data = pd.read_csv('/content/drive/MyDrive/processedFake.csv')"
      ],
      "metadata": {
        "id": "BE4hzuFNPwbz"
      },
      "execution_count": 2,
      "outputs": []
    },
    {
      "cell_type": "code",
      "source": [
        "data = pd.concat( [true_data, fake_data], ignore_index=True, sort=False)\n",
        "\n",
        "# Naming Unnamed:0 as index\n",
        "data.columns = ['index', 'label', 'content']\n",
        "data.head()"
      ],
      "metadata": {
        "colab": {
          "base_uri": "https://localhost:8080/",
          "height": 206
        },
        "id": "KvUfwX2_QGmC",
        "outputId": "caefcc07-2ddf-4194-c2db-3036f7672b47"
      },
      "execution_count": 3,
      "outputs": [
        {
          "output_type": "execute_result",
          "data": {
            "text/html": [
              "\n",
              "  <div id=\"df-6f09cdf0-64d0-478a-8513-e91c1a860581\">\n",
              "    <div class=\"colab-df-container\">\n",
              "      <div>\n",
              "<style scoped>\n",
              "    .dataframe tbody tr th:only-of-type {\n",
              "        vertical-align: middle;\n",
              "    }\n",
              "\n",
              "    .dataframe tbody tr th {\n",
              "        vertical-align: top;\n",
              "    }\n",
              "\n",
              "    .dataframe thead th {\n",
              "        text-align: right;\n",
              "    }\n",
              "</style>\n",
              "<table border=\"1\" class=\"dataframe\">\n",
              "  <thead>\n",
              "    <tr style=\"text-align: right;\">\n",
              "      <th></th>\n",
              "      <th>index</th>\n",
              "      <th>label</th>\n",
              "      <th>content</th>\n",
              "    </tr>\n",
              "  </thead>\n",
              "  <tbody>\n",
              "    <tr>\n",
              "      <th>0</th>\n",
              "      <td>0</td>\n",
              "      <td>0</td>\n",
              "      <td>u budget fight loom republicans flip fiscal sc...</td>\n",
              "    </tr>\n",
              "    <tr>\n",
              "      <th>1</th>\n",
              "      <td>1</td>\n",
              "      <td>0</td>\n",
              "      <td>u military accept transgender recruit monday p...</td>\n",
              "    </tr>\n",
              "    <tr>\n",
              "      <th>2</th>\n",
              "      <td>2</td>\n",
              "      <td>0</td>\n",
              "      <td>senior u republican senator let mr mueller job...</td>\n",
              "    </tr>\n",
              "    <tr>\n",
              "      <th>3</th>\n",
              "      <td>3</td>\n",
              "      <td>0</td>\n",
              "      <td>fbi russia probe help australian diplomat tip ...</td>\n",
              "    </tr>\n",
              "    <tr>\n",
              "      <th>4</th>\n",
              "      <td>4</td>\n",
              "      <td>0</td>\n",
              "      <td>trump want postal service charge much amazon s...</td>\n",
              "    </tr>\n",
              "  </tbody>\n",
              "</table>\n",
              "</div>\n",
              "      <button class=\"colab-df-convert\" onclick=\"convertToInteractive('df-6f09cdf0-64d0-478a-8513-e91c1a860581')\"\n",
              "              title=\"Convert this dataframe to an interactive table.\"\n",
              "              style=\"display:none;\">\n",
              "        \n",
              "  <svg xmlns=\"http://www.w3.org/2000/svg\" height=\"24px\"viewBox=\"0 0 24 24\"\n",
              "       width=\"24px\">\n",
              "    <path d=\"M0 0h24v24H0V0z\" fill=\"none\"/>\n",
              "    <path d=\"M18.56 5.44l.94 2.06.94-2.06 2.06-.94-2.06-.94-.94-2.06-.94 2.06-2.06.94zm-11 1L8.5 8.5l.94-2.06 2.06-.94-2.06-.94L8.5 2.5l-.94 2.06-2.06.94zm10 10l.94 2.06.94-2.06 2.06-.94-2.06-.94-.94-2.06-.94 2.06-2.06.94z\"/><path d=\"M17.41 7.96l-1.37-1.37c-.4-.4-.92-.59-1.43-.59-.52 0-1.04.2-1.43.59L10.3 9.45l-7.72 7.72c-.78.78-.78 2.05 0 2.83L4 21.41c.39.39.9.59 1.41.59.51 0 1.02-.2 1.41-.59l7.78-7.78 2.81-2.81c.8-.78.8-2.07 0-2.86zM5.41 20L4 18.59l7.72-7.72 1.47 1.35L5.41 20z\"/>\n",
              "  </svg>\n",
              "      </button>\n",
              "      \n",
              "  <style>\n",
              "    .colab-df-container {\n",
              "      display:flex;\n",
              "      flex-wrap:wrap;\n",
              "      gap: 12px;\n",
              "    }\n",
              "\n",
              "    .colab-df-convert {\n",
              "      background-color: #E8F0FE;\n",
              "      border: none;\n",
              "      border-radius: 50%;\n",
              "      cursor: pointer;\n",
              "      display: none;\n",
              "      fill: #1967D2;\n",
              "      height: 32px;\n",
              "      padding: 0 0 0 0;\n",
              "      width: 32px;\n",
              "    }\n",
              "\n",
              "    .colab-df-convert:hover {\n",
              "      background-color: #E2EBFA;\n",
              "      box-shadow: 0px 1px 2px rgba(60, 64, 67, 0.3), 0px 1px 3px 1px rgba(60, 64, 67, 0.15);\n",
              "      fill: #174EA6;\n",
              "    }\n",
              "\n",
              "    [theme=dark] .colab-df-convert {\n",
              "      background-color: #3B4455;\n",
              "      fill: #D2E3FC;\n",
              "    }\n",
              "\n",
              "    [theme=dark] .colab-df-convert:hover {\n",
              "      background-color: #434B5C;\n",
              "      box-shadow: 0px 1px 3px 1px rgba(0, 0, 0, 0.15);\n",
              "      filter: drop-shadow(0px 1px 2px rgba(0, 0, 0, 0.3));\n",
              "      fill: #FFFFFF;\n",
              "    }\n",
              "  </style>\n",
              "\n",
              "      <script>\n",
              "        const buttonEl =\n",
              "          document.querySelector('#df-6f09cdf0-64d0-478a-8513-e91c1a860581 button.colab-df-convert');\n",
              "        buttonEl.style.display =\n",
              "          google.colab.kernel.accessAllowed ? 'block' : 'none';\n",
              "\n",
              "        async function convertToInteractive(key) {\n",
              "          const element = document.querySelector('#df-6f09cdf0-64d0-478a-8513-e91c1a860581');\n",
              "          const dataTable =\n",
              "            await google.colab.kernel.invokeFunction('convertToInteractive',\n",
              "                                                     [key], {});\n",
              "          if (!dataTable) return;\n",
              "\n",
              "          const docLinkHtml = 'Like what you see? Visit the ' +\n",
              "            '<a target=\"_blank\" href=https://colab.research.google.com/notebooks/data_table.ipynb>data table notebook</a>'\n",
              "            + ' to learn more about interactive tables.';\n",
              "          element.innerHTML = '';\n",
              "          dataTable['output_type'] = 'display_data';\n",
              "          await google.colab.output.renderOutput(dataTable, element);\n",
              "          const docLink = document.createElement('div');\n",
              "          docLink.innerHTML = docLinkHtml;\n",
              "          element.appendChild(docLink);\n",
              "        }\n",
              "      </script>\n",
              "    </div>\n",
              "  </div>\n",
              "  "
            ],
            "text/plain": [
              "   index  label                                            content\n",
              "0      0      0  u budget fight loom republicans flip fiscal sc...\n",
              "1      1      0  u military accept transgender recruit monday p...\n",
              "2      2      0  senior u republican senator let mr mueller job...\n",
              "3      3      0  fbi russia probe help australian diplomat tip ...\n",
              "4      4      0  trump want postal service charge much amazon s..."
            ]
          },
          "metadata": {},
          "execution_count": 3
        }
      ]
    },
    {
      "cell_type": "code",
      "source": [
        "print(data['content'][0])"
      ],
      "metadata": {
        "colab": {
          "base_uri": "https://localhost:8080/"
        },
        "id": "n2zw-8WJ6MR0",
        "outputId": "dd55b498-bf27-4015-9f7c-259f8844372f"
      },
      "execution_count": null,
      "outputs": [
        {
          "output_type": "stream",
          "name": "stdout",
          "text": [
            "u budget fight loom republicans flip fiscal script washington reuters head conservative republican faction u congress vote month huge expansion national debt pay tax cut call fiscal conservative sunday urge budget restraint keep sharp pivot way among republicans u representative mark meadows speak cbs face nation draw hard line federal spend lawmakers brace battle january return holiday wednesday lawmakers begin try pass federal budget fight likely link issue immigration policy even november congressional election campaign approach republicans seek keep control congress president donald trump republicans want big budget increase military spend democrats also want proportional increase non defense discretionary spend program support education scientific research infrastructure public health environmental protection trump administration already will say go increase non defense discretionary spend percent meadows chairman small influential house freedom caucus say program democrats say enough need give government pay raise percent fiscal conservative see rationale eventually run people money say meadows among republicans vote late december party debt finance tax overhaul expect balloon federal budget deficit add trillion years trillion national debt interest hear mark talk fiscal responsibility democratic u representative joseph crowley say cbs crowley say republican tax bill would require unite state borrow trillion pay future generations finance tax cut corporations rich one least fiscally responsible bill ever see pass history house representatives think go pay many many years come crowley say republicans insist tax package biggest u tax overhaul years boost economy job growth house speaker paul ryan also support tax bill recently go meadows make clear radio interview welfare entitlement reform party often call would top republican priority republican parlance entitlement program mean food stamp house assistance medicare medicaid health insurance elderly poor disable well program create washington assist needy democrats seize ryan early december remark say show republicans would try pay tax overhaul seek spend cut social program goals house republicans may take back seat senate vote democrats need approve budget prevent government shutdown democrats use leverage senate republicans narrowly control defend discretionary non defense program social spend tackle issue dreamers people bring illegally country children trump september put march expiration date defer action childhood arrivals daca program protect young immigrants deportation provide work permit president say recent twitter message want fund propose mexican border wall immigration law change exchange agree help dreamers representative debbie dingell tell cbs favor link issue policy objectives wall fund need daca clean say wednesday trump aid meet congressional leaders discuss issue follow weekend strategy sessions trump republican leaders jan white house say trump also schedule meet sunday florida republican governor rick scott want emergency aid house pass billion aid package hurricanes florida texas puerto rico wildfires california package far exceed billion request trump administration senate yet vote aid\n"
          ]
        }
      ]
    },
    {
      "cell_type": "code",
      "source": [
        "print(data['label'][0])"
      ],
      "metadata": {
        "colab": {
          "base_uri": "https://localhost:8080/"
        },
        "id": "JIoJM1P06aQd",
        "outputId": "80fb16ba-6ecf-4d9d-d3ac-c4bf02c18125"
      },
      "execution_count": null,
      "outputs": [
        {
          "output_type": "stream",
          "name": "stdout",
          "text": [
            "0\n"
          ]
        }
      ]
    },
    {
      "cell_type": "code",
      "source": [
        "# Checking if the dataset cotains null value or not\n",
        "data.isnull().sum()"
      ],
      "metadata": {
        "colab": {
          "base_uri": "https://localhost:8080/"
        },
        "id": "fi2C-SMCRMpj",
        "outputId": "4545df7d-6667-4fc6-e706-185f34080ba9"
      },
      "execution_count": 4,
      "outputs": [
        {
          "output_type": "execute_result",
          "data": {
            "text/plain": [
              "index      0\n",
              "label      0\n",
              "content    0\n",
              "dtype: int64"
            ]
          },
          "metadata": {},
          "execution_count": 4
        }
      ]
    },
    {
      "cell_type": "markdown",
      "source": [
        "Creating the SVM MODEL"
      ],
      "metadata": {
        "id": "wI8Eoa6PTB6q"
      }
    },
    {
      "cell_type": "code",
      "source": [
        "X = data['content']\n",
        "y = data['label']\n"
      ],
      "metadata": {
        "id": "pxBa8vviRhJv"
      },
      "execution_count": 5,
      "outputs": []
    },
    {
      "cell_type": "code",
      "source": [
        "X_train, X_test, y_train, y_test = train_test_split(X, y, test_size=0.1, shuffle=True, random_state=1)"
      ],
      "metadata": {
        "id": "F6GUsf7wmDEd"
      },
      "execution_count": 6,
      "outputs": []
    },
    {
      "cell_type": "code",
      "source": [
        "import pickle\n",
        "\n",
        "with open('/content/drive/MyDrive/model.pkl', 'rb') as file:\n",
        "  SVM_Model = pickle.load(file)"
      ],
      "metadata": {
        "id": "QhjOqFhp63at"
      },
      "execution_count": 40,
      "outputs": []
    },
    {
      "cell_type": "code",
      "source": [
        "print(X_train)"
      ],
      "metadata": {
        "colab": {
          "base_uri": "https://localhost:8080/"
        },
        "id": "dhpOexh0lKJn",
        "outputId": "0bd73518-bf4d-465d-9397-7c5a36c9d5a7"
      },
      "execution_count": 58,
      "outputs": [
        {
          "output_type": "stream",
          "name": "stdout",
          "text": [
            "  (0, 50865)\t0.021345470940246313\n",
            "  (0, 18361)\t0.02222975049189338\n",
            "  (0, 26405)\t0.013884420009748454\n",
            "  (0, 61005)\t0.01824867352893102\n",
            "  (0, 46147)\t0.02132650223695713\n",
            "  (0, 87860)\t0.02246591070455715\n",
            "  (0, 5476)\t0.0173979898033906\n",
            "  (0, 10775)\t0.02698262752989348\n",
            "  (0, 79214)\t0.012557654918226923\n",
            "  (0, 21700)\t0.042346358908708595\n",
            "  (0, 75494)\t0.024713272367888513\n",
            "  (0, 36836)\t0.011821451669776956\n",
            "  (0, 23884)\t0.02364859060599003\n",
            "  (0, 26562)\t0.025280989588731383\n",
            "  (0, 71392)\t0.0288615861954198\n",
            "  (0, 17032)\t0.019937767589399216\n",
            "  (0, 66628)\t0.02249618512519564\n",
            "  (0, 59745)\t0.009741837716804229\n",
            "  (0, 14556)\t0.02577096539440119\n",
            "  (0, 79648)\t0.020836556051455842\n",
            "  (0, 77228)\t0.034116565108600186\n",
            "  (0, 17259)\t0.028178258769384422\n",
            "  (0, 10215)\t0.01597710014974273\n",
            "  (0, 46144)\t0.014889888361069435\n",
            "  (0, 21400)\t0.020224240904636495\n",
            "  :\t:\n",
            "  (40388, 28678)\t0.0468784730820522\n",
            "  (40388, 49570)\t0.07855396119613739\n",
            "  (40388, 77626)\t0.07897971269178501\n",
            "  (40388, 45548)\t0.0483685313197922\n",
            "  (40388, 16944)\t0.06869640805358317\n",
            "  (40388, 67200)\t0.0327157405363425\n",
            "  (40388, 66778)\t0.09993412679658785\n",
            "  (40388, 80792)\t0.05631559959561996\n",
            "  (40388, 81247)\t0.09757907224843627\n",
            "  (40388, 21601)\t0.02736539136232013\n",
            "  (40388, 62386)\t0.07123278913896137\n",
            "  (40388, 948)\t0.040408102314801776\n",
            "  (40388, 5476)\t0.09547274075765708\n",
            "  (40388, 17032)\t0.05470497850211877\n",
            "  (40388, 59745)\t0.16037713966098963\n",
            "  (40388, 79648)\t0.05717106219349967\n",
            "  (40388, 10215)\t0.04383775246144353\n",
            "  (40388, 81955)\t0.040850273081423874\n",
            "  (40388, 6988)\t0.08011149413076295\n",
            "  (40388, 16330)\t0.03946782755273661\n",
            "  (40388, 47452)\t0.02525224508935855\n",
            "  (40388, 75161)\t0.043156564395565734\n",
            "  (40388, 87787)\t0.033572944143443174\n",
            "  (40388, 81785)\t0.08779468638117088\n",
            "  (40388, 54528)\t0.10260785075851271\n"
          ]
        }
      ]
    },
    {
      "cell_type": "code",
      "source": [
        "#Using Vectorizer\n",
        "\n",
        "tfidf_vectorizer=TfidfVectorizer(stop_words='english', max_df=0.7)\n",
        "X_train=tfidf_vectorizer.fit_transform(X_train) \n",
        "X_test=tfidf_vectorizer.transform(X_test)"
      ],
      "metadata": {
        "id": "ioDFftDTQqyL"
      },
      "execution_count": 8,
      "outputs": []
    },
    {
      "cell_type": "markdown",
      "source": [
        "Classifier | Support Vector Classifier"
      ],
      "metadata": {
        "id": "AcOQDhX4UDVT"
      }
    },
    {
      "cell_type": "code",
      "source": [
        "# SVM_Model = svm.SVC(C=100, kernel='linear')\n",
        "# SVM_Model.fit(X_train, y_train)"
      ],
      "metadata": {
        "colab": {
          "base_uri": "https://localhost:8080/"
        },
        "id": "BwoeNs71TK_4",
        "outputId": "5f197907-ddc8-4eb8-b2ec-ec1fba5a5f18"
      },
      "execution_count": null,
      "outputs": [
        {
          "output_type": "execute_result",
          "data": {
            "text/plain": [
              "SVC(C=100, kernel='linear')"
            ]
          },
          "metadata": {},
          "execution_count": 8
        }
      ]
    },
    {
      "cell_type": "code",
      "source": [
        "# # For saving the trained model\n",
        "# import pickle\n",
        "\n",
        "# with open('model.pkl', 'wb') as file:\n",
        "#   pickle.dump(SVM_Model, file)"
      ],
      "metadata": {
        "id": "fIT4geOywh2e"
      },
      "execution_count": null,
      "outputs": []
    },
    {
      "cell_type": "code",
      "source": [
        "predict = SVM_Model.predict(X_test)"
      ],
      "metadata": {
        "id": "G0ZsH0LZn3OK"
      },
      "execution_count": 9,
      "outputs": []
    },
    {
      "cell_type": "code",
      "source": [
        "type(X_train)"
      ],
      "metadata": {
        "colab": {
          "base_uri": "https://localhost:8080/"
        },
        "id": "EZoMIeApi5tu",
        "outputId": "20e7c0ad-04b5-44aa-c74b-f800fa891056"
      },
      "execution_count": 57,
      "outputs": [
        {
          "output_type": "execute_result",
          "data": {
            "text/plain": [
              "scipy.sparse.csr.csr_matrix"
            ]
          },
          "metadata": {},
          "execution_count": 57
        }
      ]
    },
    {
      "cell_type": "code",
      "source": [
        "print (f'Accuracy - : {SVM_Model.score(X_train, y_train):.3f}')"
      ],
      "metadata": {
        "colab": {
          "base_uri": "https://localhost:8080/"
        },
        "id": "8s1RAiEsxH24",
        "outputId": "5b7ebb5f-f8b9-4473-b8c1-ac5081ef2483"
      },
      "execution_count": null,
      "outputs": [
        {
          "output_type": "stream",
          "name": "stdout",
          "text": [
            "Accuracy - : 0.999\n"
          ]
        }
      ]
    },
    {
      "cell_type": "code",
      "source": [
        "# print (f'Accuracy - : {SVM_Model.score(X_test, y_test):.3f}')"
      ],
      "metadata": {
        "colab": {
          "base_uri": "https://localhost:8080/"
        },
        "id": "U5SWZO2dy9GZ",
        "outputId": "79baf59d-6cd2-4aa4-ca0e-26617c23f0fb"
      },
      "execution_count": null,
      "outputs": [
        {
          "output_type": "stream",
          "name": "stdout",
          "text": [
            "Accuracy - : 0.995\n"
          ]
        }
      ]
    },
    {
      "cell_type": "code",
      "source": [
        "from sklearn.metrics import classification_report\n",
        "from sklearn.metrics import accuracy_score, confusion_matrix"
      ],
      "metadata": {
        "id": "wZoEcxgf74BE"
      },
      "execution_count": null,
      "outputs": []
    },
    {
      "cell_type": "code",
      "source": [
        "#DataFlair - Build confusion matrix\n",
        "confusion_matrix(y_test,predict, labels=[1,0])"
      ],
      "metadata": {
        "id": "EZP6aDYZ3Kls",
        "colab": {
          "base_uri": "https://localhost:8080/"
        },
        "outputId": "0b42af3b-fc69-4216-eac9-d4922a23346f"
      },
      "execution_count": null,
      "outputs": [
        {
          "output_type": "execute_result",
          "data": {
            "text/plain": [
              "array([[2375,   16],\n",
              "       [   8, 2089]])"
            ]
          },
          "metadata": {},
          "execution_count": 16
        }
      ]
    },
    {
      "cell_type": "code",
      "source": [
        "print('\\n clasification report:\\n',classification_report(y_test,predict))"
      ],
      "metadata": {
        "colab": {
          "base_uri": "https://localhost:8080/"
        },
        "id": "A7GUbWeq7vNf",
        "outputId": "aee1a026-5719-436d-a155-934acce530bb"
      },
      "execution_count": null,
      "outputs": [
        {
          "output_type": "stream",
          "name": "stdout",
          "text": [
            "\n",
            " clasification report:\n",
            "               precision    recall  f1-score   support\n",
            "\n",
            "           0       0.99      1.00      0.99      2097\n",
            "           1       1.00      0.99      0.99      2391\n",
            "\n",
            "    accuracy                           0.99      4488\n",
            "   macro avg       0.99      0.99      0.99      4488\n",
            "weighted avg       0.99      0.99      0.99      4488\n",
            "\n"
          ]
        }
      ]
    },
    {
      "cell_type": "markdown",
      "source": [
        "For Real World News"
      ],
      "metadata": {
        "id": "G6h2nP4Y8WTM"
      }
    },
    {
      "cell_type": "code",
      "source": [
        "News = ['budget fight loom reuters head flip fiscal script conservative republican faction u congress republicans washington']"
      ],
      "metadata": {
        "id": "nrYyS7rs8V4Y"
      },
      "execution_count": 10,
      "outputs": []
    },
    {
      "cell_type": "code",
      "source": [
        "News = tfidf_vectorizer.transform(News)"
      ],
      "metadata": {
        "id": "_dauwGKX9A0a"
      },
      "execution_count": 11,
      "outputs": []
    },
    {
      "cell_type": "code",
      "source": [
        "print(News)"
      ],
      "metadata": {
        "colab": {
          "base_uri": "https://localhost:8080/"
        },
        "id": "fmyECEz_fz-j",
        "outputId": "d20706ac-8aa2-44a3-98ff-be58cbef0ef0"
      },
      "execution_count": 12,
      "outputs": [
        {
          "output_type": "stream",
          "name": "stdout",
          "text": [
            "  (0, 86038)\t0.14671202697216362\n",
            "  (0, 70466)\t0.3719378618395119\n",
            "  (0, 66801)\t0.11011377976343895\n",
            "  (0, 66430)\t0.1863456229278861\n",
            "  (0, 66426)\t0.1497062005819619\n",
            "  (0, 46196)\t0.38361162037161234\n",
            "  (0, 33348)\t0.19297310704801876\n",
            "  (0, 27398)\t0.36573036876236714\n",
            "  (0, 27127)\t0.30661832476567535\n",
            "  (0, 26860)\t0.19275821269812748\n",
            "  (0, 25723)\t0.4140317420632541\n",
            "  (0, 16134)\t0.21478688526036646\n",
            "  (0, 16017)\t0.19421689648140383\n",
            "  (0, 10637)\t0.2574383613582437\n"
          ]
        }
      ]
    },
    {
      "cell_type": "code",
      "source": [
        "PREDICT = SVM_Model.predict(News)"
      ],
      "metadata": {
        "id": "Gg1gZQhV9EYF"
      },
      "execution_count": 13,
      "outputs": []
    },
    {
      "cell_type": "code",
      "source": [
        "if PREDICT == 1:\n",
        "  print('THE NEWS IS FAKE')\n",
        "else:\n",
        "  print('THE NEWS IS REAL')"
      ],
      "metadata": {
        "colab": {
          "base_uri": "https://localhost:8080/"
        },
        "id": "zFfYII7v97eh",
        "outputId": "7921ef87-3946-4f29-aae1-a74ff3c4c38f"
      },
      "execution_count": 14,
      "outputs": [
        {
          "output_type": "stream",
          "name": "stdout",
          "text": [
            "THE NEWS IS REAL\n"
          ]
        }
      ]
    },
    {
      "cell_type": "code",
      "source": [
        "# Visualising the Test set results\n",
        "def get_hyperplane(x, w, b, offset):\n",
        "  return (-w[0] * x - b + offset) / w[1]\n",
        "\n",
        "fig, ax = plt.subplots(1, 1, figsize=(10,6))\n",
        "\n",
        "plt.set_cmap('PiYG')\n",
        "plt.scatter(X_train[:, 0], X_train[:, 1], marker='o' c=y_train, s=100, color='purple',alpha=0.75)\n",
        "plt.scatter(X_test[:, 0], X_test[:, 1], marker=\"x\", c=y_test, s=100, alpha=0.75)\n",
        "\n",
        "x0_1 = np.amin(X_train[:, 0])\n",
        "x0_2 = np.amax(X_train[:, 0])\n",
        "\n",
        "x1_1 = get_hyperplane(x0_1, SVM_Model.w, SVM_Model.b, 0)\n",
        "x1_2 = get_hyperplane(x0_2, SVM_Model.w, SVM_Model.b, 0)\n",
        "\n",
        "x1_1_m = get_hyperplane(x0_1, SVM_Model.w, SVM_Model.b, -1)\n",
        "x1_2_m = get_hyperplane(x0_2, SVM_Model.w, SVM_Model.b, -1)\n",
        "\n",
        "x1_1_p = get_hyperplane(x0_1, SVM_Model.w, SVM_Model.b, 1)\n",
        "x1_2_p = get_hyperplane(x0_2, SVM_Model.w, SVM_Model.b, 1)\n",
        "\n",
        "ax.plot([x0_1, x0_2], [x1_1, x1_2], \"-\", c='k', lw=1, alpha=0.9)\n",
        "ax.plot([x0_1, x0_2], [x1_1_m, x1_2_m], \"--\", c='grey', lw=1, alpha=0.8)\n",
        "ax.plot([x0_1, x0_2], [x1_1_p, x1_2_p], \"--\", c='grey', lw=1, alpha=0.8)\n",
        "\n",
        "x1_min = np.amin(X[:, 1])\n",
        "x1_max = np.amax(X[:, 1])\n",
        "ax.set_ylim([x1_min - 3, x1_max + 3])\n",
        "\n",
        "for spine in ['top','right']:\n",
        "  ax.spines[spine].set_visible(False)\n",
        "\n",
        "plt.show()"
      ],
      "metadata": {
        "colab": {
          "base_uri": "https://localhost:8080/",
          "height": 130
        },
        "id": "zVnpbEPN3dbh",
        "outputId": "3c948901-6e66-4b8f-a67c-b433382f488b"
      },
      "execution_count": 63,
      "outputs": [
        {
          "output_type": "error",
          "ename": "SyntaxError",
          "evalue": "ignored",
          "traceback": [
            "\u001b[0;36m  File \u001b[0;32m\"<ipython-input-63-0f5980f7032b>\"\u001b[0;36m, line \u001b[0;32m8\u001b[0m\n\u001b[0;31m    plt.scatter(X_train[:, 0], X_train[:, 1], marker='o' c=y_train, s=100, color='purple',alpha=0.75)\u001b[0m\n\u001b[0m                                                         ^\u001b[0m\n\u001b[0;31mSyntaxError\u001b[0m\u001b[0;31m:\u001b[0m invalid syntax\n"
          ]
        }
      ]
    }
  ]
}